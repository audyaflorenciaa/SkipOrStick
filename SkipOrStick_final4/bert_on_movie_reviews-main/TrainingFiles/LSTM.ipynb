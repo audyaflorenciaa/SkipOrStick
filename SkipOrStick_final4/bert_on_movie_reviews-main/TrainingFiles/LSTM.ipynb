{
  "cells": [
    {
      "cell_type": "code",
      "execution_count": null,
      "metadata": {
        "colab": {
          "base_uri": "https://localhost:8080/"
        },
        "id": "IyWpMcpLSjsJ",
        "outputId": "3ccae773-0197-4c31-8472-2f2a75e777dc"
      },
      "outputs": [
        {
          "output_type": "stream",
          "name": "stdout",
          "text": [
            "Collecting emoji\n",
            "  Downloading emoji-2.14.1-py3-none-any.whl.metadata (5.7 kB)\n",
            "Downloading emoji-2.14.1-py3-none-any.whl (590 kB)\n",
            "\u001b[?25l   \u001b[90m━━━━━━━━━━━━━━━━━━━━━━━━━━━━━━━━━━━━━━━━\u001b[0m \u001b[32m0.0/590.6 kB\u001b[0m \u001b[31m?\u001b[0m eta \u001b[36m-:--:--\u001b[0m\r\u001b[2K   \u001b[91m━━━━━━━━━━━━━━━━━━━━━━━━━━━━━━━━━━━━━━━\u001b[0m\u001b[91m╸\u001b[0m \u001b[32m583.7/590.6 kB\u001b[0m \u001b[31m18.6 MB/s\u001b[0m eta \u001b[36m0:00:01\u001b[0m\r\u001b[2K   \u001b[90m━━━━━━━━━━━━━━━━━━━━━━━━━━━━━━━━━━━━━━━━\u001b[0m \u001b[32m590.6/590.6 kB\u001b[0m \u001b[31m13.6 MB/s\u001b[0m eta \u001b[36m0:00:00\u001b[0m\n",
            "\u001b[?25hInstalling collected packages: emoji\n",
            "Successfully installed emoji-2.14.1\n"
          ]
        }
      ],
      "source": [
        "%pip install emoji"
      ]
    },
    {
      "cell_type": "code",
      "execution_count": null,
      "metadata": {
        "id": "RGP7P6qLEsxD"
      },
      "outputs": [],
      "source": [
        "import numpy as np\n",
        "import pandas as pd\n",
        "import matplotlib.pyplot as plt\n",
        "from sklearn.preprocessing import MinMaxScaler\n",
        "from sklearn.model_selection import train_test_split\n",
        "from sklearn.metrics import ConfusionMatrixDisplay, classification_report\n",
        "import re\n",
        "import time\n",
        "import emoji\n",
        "import nltk\n",
        "import numpy as np\n",
        "from nltk.corpus import stopwords\n",
        "from nltk.stem import PorterStemmer, WordNetLemmatizer\n",
        "from tqdm.auto import tqdm\n",
        "import tensorflow as tf\n",
        "#%matplotlib inline\n",
        "import tensorflow as tf\n",
        "from tensorflow.keras.preprocessing.text import Tokenizer\n",
        "from tensorflow.keras.preprocessing.sequence import pad_sequences\n",
        "from tensorflow.keras.layers import (\n",
        "    Dense, Input, LSTM, Embedding, Dropout, Activation,\n",
        "    Bidirectional, GlobalMaxPool1D\n",
        ")\n",
        "from tensorflow.keras.models import Model"
      ]
    },
    {
      "cell_type": "code",
      "execution_count": null,
      "metadata": {
        "colab": {
          "base_uri": "https://localhost:8080/"
        },
        "id": "nCpVOtNoFdMa",
        "outputId": "d428cbb1-f411-43b1-8b61-4382a788e330"
      },
      "outputs": [
        {
          "output_type": "stream",
          "name": "stderr",
          "text": [
            "[nltk_data] Downloading package stopwords to /root/nltk_data...\n",
            "[nltk_data]   Unzipping corpora/stopwords.zip.\n",
            "[nltk_data] Downloading package wordnet to /root/nltk_data...\n"
          ]
        },
        {
          "output_type": "execute_result",
          "data": {
            "text/plain": [
              "True"
            ]
          },
          "metadata": {},
          "execution_count": 4
        }
      ],
      "source": [
        "nltk.download('stopwords')\n",
        "nltk.download('wordnet')"
      ]
    },
    {
      "cell_type": "code",
      "source": [
        "stop_words = set(stopwords.words(\"english\"))\n",
        "stemmer = PorterStemmer()\n",
        "lemmatizer = WordNetLemmatizer()"
      ],
      "metadata": {
        "id": "v929UZmFq4u_"
      },
      "execution_count": null,
      "outputs": []
    },
    {
      "cell_type": "code",
      "execution_count": null,
      "metadata": {
        "colab": {
          "base_uri": "https://localhost:8080/"
        },
        "id": "Sc2jHIqyFg3C",
        "outputId": "5ce3c9a1-a63e-437c-c1ae-6686a26da214"
      },
      "outputs": [
        {
          "output_type": "stream",
          "name": "stdout",
          "text": [
            "Configuration Loaded Successfully!\n"
          ]
        }
      ],
      "source": [
        "TRAIN_DATA_PATH = '/content/train.csv'\n",
        "TEST_DATA_PATH = '/content/test.csv'\n",
        "SAVED_MODEL_PATH = '/content/model.keras'\n",
        "VOCAB_SIZE = 10000  # Vocabulary size for tokenizer\n",
        "EMBEDDING_DIM = 100  # Embedding dimension for LSTM\n",
        "MAX_LEN = 128  # Maximum sequence length\n",
        "BATCH_SIZE = 32\n",
        "NUM_CLASSES = 2\n",
        "LEARNING_RATE = 2e-5\n",
        "NUM_EPOCHS = 5\n",
        "\n",
        "print(\"Configuration Loaded Successfully!\")"
      ]
    },
    {
      "cell_type": "code",
      "execution_count": null,
      "metadata": {
        "id": "7A5ukCY7FjS6"
      },
      "outputs": [],
      "source": [
        "def clean_text(text):\n",
        "    \"\"\"Cleans text by removing emojis, special characters, lowercasing, stemming, and lemmatizing.\"\"\"\n",
        "    text = emoji.replace_emoji(text, replace=\"\")\n",
        "    text = text.lower()\n",
        "    text = re.sub(r\"[^a-zA-Z0-9\\s]\", \"\", text)\n",
        "    text = \" \".join(text.split())\n",
        "    words = text.split()\n",
        "    words = [lemmatizer.lemmatize(stemmer.stem(word)) for word in words if word.lower() not in stop_words]\n",
        "    return \" \".join(words)"
      ]
    },
    {
      "cell_type": "code",
      "execution_count": null,
      "metadata": {
        "id": "oz8HuijrFoSM",
        "colab": {
          "base_uri": "https://localhost:8080/"
        },
        "outputId": "6972e7ff-cb60-4ae9-ae15-4a126d307014"
      },
      "outputs": [
        {
          "output_type": "stream",
          "name": "stdout",
          "text": [
            "Number of samples after dropping NaN and \"formality\" style: 77616\n",
            "label_text\n",
            "positive         33361\n",
            "negative         27711\n",
            "very positive     9311\n",
            "very negative     7233\n",
            "Name: count, dtype: int64\n"
          ]
        }
      ],
      "source": [
        "data = pd.read_csv(TRAIN_DATA_PATH).drop_duplicates()\n",
        "data = data.dropna(subset=['text'])\n",
        "data = data[data['style'] != 'formality']  # Drop rows where style is 'formality'\n",
        "data = data[data['label_text'] != 'neutral']\n",
        "print(f'Number of samples after dropping NaN and \"formality\" style: {len(data)}')\n",
        "data.head()\n",
        "print(data['label_text'].value_counts())"
      ]
    },
    {
      "cell_type": "code",
      "source": [
        "data2 = pd.read_csv(TEST_DATA_PATH).drop_duplicates()\n",
        "data2 = data2.dropna(subset=['text'])\n",
        "data2 = data2[data2['style'] != 'formality']  # Drop rows where style is 'formality'\n",
        "data2 = data2[data2['label_text'] != 'neutral']\n",
        "print(f'Number of samples after dropping NaN and \"formality\" style: {len(data2)}')\n",
        "data2.head()\n",
        "print(data2['label_text'].value_counts())"
      ],
      "metadata": {
        "colab": {
          "base_uri": "https://localhost:8080/"
        },
        "id": "4dtORkC0AZPY",
        "outputId": "58b08e78-5bca-4626-9328-3ed2f6d6a5c2"
      },
      "execution_count": null,
      "outputs": [
        {
          "output_type": "stream",
          "name": "stdout",
          "text": [
            "Number of samples after dropping NaN and \"formality\" style: 1821\n",
            "label_text\n",
            "negative         633\n",
            "positive         510\n",
            "very positive    399\n",
            "very negative    279\n",
            "Name: count, dtype: int64\n"
          ]
        }
      ]
    },
    {
      "cell_type": "code",
      "execution_count": null,
      "metadata": {
        "id": "QpJqE5raRlIk",
        "colab": {
          "base_uri": "https://localhost:8080/"
        },
        "outputId": "67b7129c-9c91-4482-838e-ef2375fc0d0b"
      },
      "outputs": [
        {
          "output_type": "stream",
          "name": "stderr",
          "text": [
            "<ipython-input-10-b716760a60a0>:1: SettingWithCopyWarning: \n",
            "A value is trying to be set on a copy of a slice from a DataFrame.\n",
            "Try using .loc[row_indexer,col_indexer] = value instead\n",
            "\n",
            "See the caveats in the documentation: https://pandas.pydata.org/pandas-docs/stable/user_guide/indexing.html#returning-a-view-versus-a-copy\n",
            "  data['label_text'] = data['label_text'].apply(\n"
          ]
        }
      ],
      "source": [
        "data['label_text'] = data['label_text'].apply(\n",
        "    lambda x: 0 if x in ['very negative', 'negative'] else 1\n",
        ")\n",
        "data.head()\n",
        "\n",
        "data2['label_text'] = data2['label_text'].apply(\n",
        "    lambda x: 0 if x in ['very negative', 'negative'] else 1\n",
        ")\n"
      ]
    },
    {
      "cell_type": "code",
      "execution_count": null,
      "metadata": {
        "id": "-IMW035IRm3D"
      },
      "outputs": [],
      "source": [
        "max_features = 20000\n",
        "tokenizer = Tokenizer(num_words=max_features)\n",
        "tokenizer.fit_on_texts(list(data))\n",
        "list_tokenized_train = tokenizer.texts_to_sequences(data)\n",
        "list_tokenized_test = tokenizer.texts_to_sequences(data)"
      ]
    },
    {
      "cell_type": "code",
      "source": [
        "from tensorflow.keras.preprocessing.text import Tokenizer\n",
        "from tensorflow.keras.preprocessing.sequence import pad_sequences\n",
        "\n",
        "# Parameters\n",
        "maxlen = 100\n",
        "num_words = 10000  # or any vocab size you want\n",
        "\n",
        "data['cleaned_text'] = data['text'].apply(clean_text)\n",
        "\n",
        "# Initialize and fit the tokenizer\n",
        "tokenizer = Tokenizer(num_words=num_words, oov_token=\"<OOV>\")\n",
        "tokenizer.fit_on_texts(data['text'])\n",
        "\n",
        "# Convert text to sequences\n",
        "X_train = tokenizer.texts_to_sequences(data['text'])\n",
        "X_test = tokenizer.texts_to_sequences(data2['text'])\n",
        "\n",
        "# Pad the sequences\n",
        "X_train = pad_sequences(X_train, maxlen=maxlen)\n",
        "X_test = pad_sequences(X_test, maxlen=maxlen)"
      ],
      "metadata": {
        "id": "zSf0V0CMAW5D"
      },
      "execution_count": null,
      "outputs": []
    },
    {
      "cell_type": "code",
      "source": [
        "from tensorflow.keras.layers import Input, Embedding\n",
        "\n",
        "embed_size = 128\n",
        "\n",
        "inp = Input(shape=(maxlen,))\n",
        "x = Embedding(input_dim=max_features, output_dim=embed_size)(inp)"
      ],
      "metadata": {
        "id": "7EZv1fx6BX1W"
      },
      "execution_count": null,
      "outputs": []
    },
    {
      "cell_type": "code",
      "source": [
        "# Input and Embedding\n",
        "inp = Input(shape=(maxlen,))\n",
        "x = Embedding(input_dim=max_features, output_dim=embed_size)(inp)\n",
        "\n",
        "# LSTM Layer\n",
        "output_dimention = 60\n",
        "x = LSTM(output_dimention, return_sequences=True, name='lstm_layer')(x)\n",
        "\n",
        "# Reduce dimensionality\n",
        "x = GlobalMaxPool1D()(x)\n",
        "\n",
        "# Dropout and Dense layers\n",
        "x = Dropout(0.1)(x)\n",
        "x = Dense(50, activation=\"relu\")(x)\n",
        "x = Dropout(0.1)(x)\n",
        "\n",
        "# Output layer for binary classification\n",
        "x = Dense(1, activation=\"sigmoid\")(x)"
      ],
      "metadata": {
        "id": "OEHapkDE9U0Z"
      },
      "execution_count": null,
      "outputs": []
    },
    {
      "cell_type": "code",
      "source": [
        "y_train = data['label_text'].values\n",
        "y_test = data2['label_text'].values"
      ],
      "metadata": {
        "id": "_JFyUGqFCFYQ"
      },
      "execution_count": null,
      "outputs": []
    },
    {
      "cell_type": "code",
      "source": [
        "model = Model(inputs=inp, outputs=x)\n",
        "# we use binary_crossentropy because of binary classification\n",
        "# optimise loss by Adam optimiser\n",
        "model.compile(loss='binary_crossentropy',\n",
        "              optimizer='adam',\n",
        "              metrics=['accuracy'])\n",
        "\n",
        "print('Training Model...')\n",
        "start_fitting = time.time()\n",
        "model.fit(X_train,y_train, batch_size=BATCH_SIZE, epochs=NUM_EPOCHS, validation_split=0.1)\n",
        "fitting_model_time = time.time()\n",
        "print('Training Model took: ', fitting_model_time - start_fitting)"
      ],
      "metadata": {
        "colab": {
          "base_uri": "https://localhost:8080/"
        },
        "id": "dpP4h8F4v7C3",
        "outputId": "e9fc850f-7e4f-46ae-96d6-8f02e2037485"
      },
      "execution_count": null,
      "outputs": [
        {
          "output_type": "stream",
          "name": "stdout",
          "text": [
            "Training Model...\n",
            "Epoch 1/5\n",
            "\u001b[1m2183/2183\u001b[0m \u001b[32m━━━━━━━━━━━━━━━━━━━━\u001b[0m\u001b[37m\u001b[0m \u001b[1m28s\u001b[0m 10ms/step - accuracy: 0.7659 - loss: 0.4528 - val_accuracy: 0.8203 - val_loss: 0.4086\n",
            "Epoch 2/5\n",
            "\u001b[1m2183/2183\u001b[0m \u001b[32m━━━━━━━━━━━━━━━━━━━━\u001b[0m\u001b[37m\u001b[0m \u001b[1m22s\u001b[0m 10ms/step - accuracy: 0.9190 - loss: 0.1969 - val_accuracy: 0.8382 - val_loss: 0.3952\n",
            "Epoch 3/5\n",
            "\u001b[1m2183/2183\u001b[0m \u001b[32m━━━━━━━━━━━━━━━━━━━━\u001b[0m\u001b[37m\u001b[0m \u001b[1m24s\u001b[0m 11ms/step - accuracy: 0.9473 - loss: 0.1335 - val_accuracy: 0.8204 - val_loss: 0.4343\n",
            "Epoch 4/5\n",
            "\u001b[1m2183/2183\u001b[0m \u001b[32m━━━━━━━━━━━━━━━━━━━━\u001b[0m\u001b[37m\u001b[0m \u001b[1m23s\u001b[0m 10ms/step - accuracy: 0.9557 - loss: 0.1059 - val_accuracy: 0.8020 - val_loss: 0.4809\n",
            "Epoch 5/5\n",
            "\u001b[1m2183/2183\u001b[0m \u001b[32m━━━━━━━━━━━━━━━━━━━━\u001b[0m\u001b[37m\u001b[0m \u001b[1m41s\u001b[0m 10ms/step - accuracy: 0.9633 - loss: 0.0849 - val_accuracy: 0.8080 - val_loss: 0.5472\n",
            "Training Model took:  138.48980140686035\n"
          ]
        }
      ]
    },
    {
      "cell_type": "code",
      "source": [
        "from sklearn.metrics import confusion_matrix, classification_report\n",
        "import matplotlib.pyplot as plt\n",
        "import seaborn as sns\n",
        "\n",
        "# Predict on validation data (or test data if available)\n",
        "y_pred = model.predict(X_test)\n",
        "y_pred = (y_pred > 0.5).astype(int)  # Convert predictions to 0 or 1 based on threshold\n",
        "\n",
        "print(y_test)\n",
        "print(y_pred)\n",
        "# Confusion Matrix\n",
        "cm = confusion_matrix(y_test, y_pred)\n",
        "print(\"Confusion Matrix:\")\n",
        "print(cm)\n",
        "\n",
        "# Classification Report\n",
        "report = classification_report(y_test, y_pred)\n",
        "print(\"\\nClassification Report:\")\n",
        "print(report)\n",
        "\n",
        "# Plot Confusion Matrix\n",
        "plt.figure(figsize=(6, 6))\n",
        "sns.heatmap(cm, annot=True, fmt='g', cmap='Blues', xticklabels=['Negative', 'Positive'], yticklabels=['Negative', 'Positive'])\n",
        "plt.ylabel('Actual')\n",
        "plt.xlabel('Predicted')\n",
        "plt.title('Confusion Matrix')\n",
        "plt.show()"
      ],
      "metadata": {
        "colab": {
          "base_uri": "https://localhost:8080/",
          "height": 983
        },
        "id": "nz62GvDMENzE",
        "outputId": "f05caeec-16e4-4ea4-f500-460274fa6cc3"
      },
      "execution_count": null,
      "outputs": [
        {
          "output_type": "stream",
          "name": "stdout",
          "text": [
            "\u001b[1m57/57\u001b[0m \u001b[32m━━━━━━━━━━━━━━━━━━━━\u001b[0m\u001b[37m\u001b[0m \u001b[1m0s\u001b[0m 5ms/step\n",
            "[1 1 1 ... 1 1 0]\n",
            "[[1]\n",
            " [1]\n",
            " [1]\n",
            " ...\n",
            " [1]\n",
            " [0]\n",
            " [0]]\n",
            "Confusion Matrix:\n",
            "[[729 183]\n",
            " [117 792]]\n",
            "\n",
            "Classification Report:\n",
            "              precision    recall  f1-score   support\n",
            "\n",
            "           0       0.86      0.80      0.83       912\n",
            "           1       0.81      0.87      0.84       909\n",
            "\n",
            "    accuracy                           0.84      1821\n",
            "   macro avg       0.84      0.84      0.84      1821\n",
            "weighted avg       0.84      0.84      0.84      1821\n",
            "\n"
          ]
        },
        {
          "output_type": "display_data",
          "data": {
            "text/plain": [
              "<Figure size 600x600 with 2 Axes>"
            ],
            "image/png": "[encoded data removed]"
          },
          "metadata": {}
        }
      ]
    },
    {
      "cell_type": "code",
      "source": [
        "# Save the model to a file\n",
        "model.save(\"LSTM.keras\")"
      ],
      "metadata": {
        "id": "OWzaW6zEEhFK"
      },
      "execution_count": null,
      "outputs": []
    }
  ],
  "metadata": {
    "accelerator": "GPU",
    "colab": {
      "gpuType": "T4",
      "provenance": []
    },
    "kernelspec": {
      "display_name": "Python 3",
      "name": "python3"
    },
    "language_info": {
      "name": "python"
    }
  },
  "nbformat": 4,
  "nbformat_minor": 0
}