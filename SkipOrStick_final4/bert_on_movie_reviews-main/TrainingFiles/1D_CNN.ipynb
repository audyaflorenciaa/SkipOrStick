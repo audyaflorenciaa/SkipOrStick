{
  "cells": [
    {
      "cell_type": "code",
      "execution_count": null,
      "metadata": {
        "colab": {
          "base_uri": "https://localhost:8080/"
        },
        "id": "IyWpMcpLSjsJ",
        "outputId": "ccb91673-b8c3-408b-bf9a-dcdc74e5a423"
      },
      "outputs": [
        {
          "name": "stdout",
          "output_type": "stream",
          "text": [
            "Requirement already satisfied: emoji in /usr/local/lib/python3.11/dist-packages (2.14.1)\n"
          ]
        }
      ],
      "source": [
        "%pip install emoji"
      ]
    },
    {
      "cell_type": "code",
      "execution_count": null,
      "metadata": {
        "id": "RGP7P6qLEsxD"
      },
      "outputs": [],
      "source": [
        "import numpy as np\n",
        "import pandas as pd\n",
        "import matplotlib.pyplot as plt\n",
        "from sklearn.preprocessing import MinMaxScaler\n",
        "from sklearn.model_selection import train_test_split\n",
        "from sklearn.metrics import confusion_matrix, classification_report\n",
        "import re\n",
        "import time\n",
        "import emoji\n",
        "import nltk\n",
        "import numpy as np\n",
        "from nltk.corpus import stopwords\n",
        "from nltk.stem import PorterStemmer, WordNetLemmatizer\n",
        "from tqdm.auto import tqdm\n",
        "import tensorflow as tf\n",
        "#%matplotlib inline\n",
        "import tensorflow as tf\n",
        "from tensorflow.keras.preprocessing.text import Tokenizer\n",
        "from tensorflow.keras.preprocessing.sequence import pad_sequences\n",
        "from tensorflow.keras.models import Sequential\n",
        "from tensorflow.keras.layers import Embedding, Conv1D, GlobalMaxPooling1D, Dense, Dropout\n",
        "from tensorflow.keras.models import Model\n",
        "from tensorflow.keras.preprocessing.text import Tokenizer\n",
        "from tensorflow.keras.preprocessing.sequence import pad_sequences"
      ]
    },
    {
      "cell_type": "code",
      "execution_count": null,
      "metadata": {
        "colab": {
          "base_uri": "https://localhost:8080/"
        },
        "id": "nCpVOtNoFdMa",
        "outputId": "a241fd16-fe5c-4467-e8d3-190d25de20f0"
      },
      "outputs": [
        {
          "name": "stderr",
          "output_type": "stream",
          "text": [
            "[nltk_data] Downloading package stopwords to /root/nltk_data...\n",
            "[nltk_data]   Package stopwords is already up-to-date!\n",
            "[nltk_data] Downloading package wordnet to /root/nltk_data...\n",
            "[nltk_data]   Package wordnet is already up-to-date!\n"
          ]
        },
        {
          "data": {
            "text/plain": [
              "True"
            ]
          },
          "execution_count": 15,
          "metadata": {},
          "output_type": "execute_result"
        }
      ],
      "source": [
        "nltk.download('stopwords')\n",
        "nltk.download('wordnet')"
      ]
    },
    {
      "cell_type": "code",
      "execution_count": null,
      "metadata": {
        "id": "v929UZmFq4u_"
      },
      "outputs": [],
      "source": [
        "stop_words = set(stopwords.words(\"english\"))\n",
        "stemmer = PorterStemmer()\n",
        "lemmatizer = WordNetLemmatizer()"
      ]
    },
    {
      "cell_type": "code",
      "execution_count": null,
      "metadata": {
        "colab": {
          "base_uri": "https://localhost:8080/"
        },
        "id": "Sc2jHIqyFg3C",
        "outputId": "a1dc8003-fe1c-4ca6-a940-97d8a6620323"
      },
      "outputs": [
        {
          "name": "stdout",
          "output_type": "stream",
          "text": [
            "Configuration Loaded Successfully!\n"
          ]
        }
      ],
      "source": [
        "TRAIN_DATA_PATH = '/content/train.csv'\n",
        "TEST_DATA_PATH = '/content/test.csv'\n",
        "SAVED_MODEL_PATH = '/content/model.keras'\n",
        "VOCAB_SIZE = 10000  # Vocabulary size for tokenizer\n",
        "EMBEDDING_DIM = 100  # Embedding dimension for LSTM\n",
        "MAX_LEN = 128  # Maximum sequence length\n",
        "BATCH_SIZE = 32\n",
        "NUM_CLASSES = 2\n",
        "LEARNING_RATE = 2e-5\n",
        "NUM_EPOCHS = 5\n",
        "\n",
        "print(\"Configuration Loaded Successfully!\")"
      ]
    },
    {
      "cell_type": "code",
      "execution_count": null,
      "metadata": {
        "id": "7A5ukCY7FjS6"
      },
      "outputs": [],
      "source": [
        "def clean_text(text):\n",
        "    \"\"\"Cleans text by removing emojis, special characters, lowercasing, stemming, and lemmatizing.\"\"\"\n",
        "    text = emoji.replace_emoji(text, replace=\"\")\n",
        "    text = text.lower()\n",
        "    text = re.sub(r\"[^a-zA-Z0-9\\s]\", \"\", text)\n",
        "    text = \" \".join(text.split())\n",
        "    words = text.split()\n",
        "    words = [lemmatizer.lemmatize(stemmer.stem(word)) for word in words if word.lower() not in stop_words]\n",
        "    return \" \".join(words)"
      ]
    },
    {
      "cell_type": "code",
      "execution_count": null,
      "metadata": {
        "id": "x8Ud7FMiNjTl"
      },
      "outputs": [],
      "source": [
        "def preprocess_texts(texts, tokenizer=None, fit_tokenizer=False,\n",
        "                     num_words=10000, maxlen=100, oov_token='<OOV>'):\n",
        "    # Clean\n",
        "    cleaned = [clean_text(t) for t in texts]\n",
        "\n",
        "    # Tokenizer\n",
        "    if tokenizer is None and fit_tokenizer:\n",
        "        tokenizer = Tokenizer(num_words=num_words, oov_token=oov_token)\n",
        "        tokenizer.fit_on_texts(cleaned)\n",
        "    elif tokenizer is None:\n",
        "        raise ValueError(\"Tokenizer must be provided if not fitting a new one.\")\n",
        "\n",
        "    # Text to sequences\n",
        "    seqs = tokenizer.texts_to_sequences(cleaned)\n",
        "    # Pad\n",
        "    padded = pad_sequences(seqs, maxlen=maxlen, padding='post', truncating='post')\n",
        "\n",
        "    return padded, tokenizer"
      ]
    },
    {
      "cell_type": "code",
      "execution_count": null,
      "metadata": {
        "colab": {
          "base_uri": "https://localhost:8080/"
        },
        "id": "oz8HuijrFoSM",
        "outputId": "135e85be-887b-4a6e-81e6-e8fde045c230"
      },
      "outputs": [
        {
          "name": "stdout",
          "output_type": "stream",
          "text": [
            "Number of samples after dropping NaN and \"formality\" style: 77616\n",
            "label_text\n",
            "positive         33361\n",
            "negative         27711\n",
            "very positive     9311\n",
            "very negative     7233\n",
            "Name: count, dtype: int64\n"
          ]
        }
      ],
      "source": [
        "data = pd.read_csv(TRAIN_DATA_PATH).drop_duplicates()\n",
        "data = data.dropna(subset=['text'])\n",
        "data = data[data['style'] != 'formality']  # Drop rows where style is 'formality'\n",
        "data = data[data['label_text'] != 'neutral']\n",
        "print(f'Number of samples after dropping NaN and \"formality\" style: {len(data)}')\n",
        "data.head()\n",
        "print(data['label_text'].value_counts())"
      ]
    },
    {
      "cell_type": "code",
      "execution_count": null,
      "metadata": {
        "colab": {
          "base_uri": "https://localhost:8080/"
        },
        "id": "4dtORkC0AZPY",
        "outputId": "0fb29694-671b-494c-e619-61605d5ba7e5"
      },
      "outputs": [
        {
          "name": "stdout",
          "output_type": "stream",
          "text": [
            "Number of samples after dropping NaN and \"formality\" style: 1821\n",
            "label_text\n",
            "negative         633\n",
            "positive         510\n",
            "very positive    399\n",
            "very negative    279\n",
            "Name: count, dtype: int64\n"
          ]
        }
      ],
      "source": [
        "data2 = pd.read_csv(TEST_DATA_PATH).drop_duplicates()\n",
        "data2 = data2.dropna(subset=['text'])\n",
        "data2 = data2[data2['style'] != 'formality']  # Drop rows where style is 'formality'\n",
        "data2 = data2[data2['label_text'] != 'neutral']\n",
        "print(f'Number of samples after dropping NaN and \"formality\" style: {len(data2)}')\n",
        "data2.head()\n",
        "print(data2['label_text'].value_counts())"
      ]
    },
    {
      "cell_type": "code",
      "execution_count": null,
      "metadata": {
        "id": "QpJqE5raRlIk"
      },
      "outputs": [],
      "source": [
        "data['label_text'] = data['label_text'].apply(\n",
        "    lambda x: 0 if x in ['very negative', 'negative'] else 1\n",
        ")\n",
        "data.head()\n",
        "\n",
        "data2['label_text'] = data2['label_text'].apply(\n",
        "    lambda x: 0 if x in ['very negative', 'negative'] else 1\n",
        ")\n"
      ]
    },
    {
      "cell_type": "code",
      "execution_count": null,
      "metadata": {
        "id": "-IMW035IRm3D"
      },
      "outputs": [],
      "source": [
        "max_features = 20000\n",
        "tokenizer = Tokenizer(num_words=max_features)\n",
        "tokenizer.fit_on_texts(list(data))\n",
        "list_tokenized_train = tokenizer.texts_to_sequences(data)\n",
        "list_tokenized_test = tokenizer.texts_to_sequences(data)"
      ]
    },
    {
      "cell_type": "code",
      "execution_count": null,
      "metadata": {
        "id": "zSf0V0CMAW5D"
      },
      "outputs": [],
      "source": [
        "num_words = 10000\n",
        "maxlen = 100\n",
        "\n",
        "# Preprocess training data and fit tokenizer\n",
        "X_all, tokenizer = preprocess_texts(\n",
        "    data['text'],\n",
        "    tokenizer=None,\n",
        "    fit_tokenizer=True,\n",
        "    num_words=num_words,\n",
        "    maxlen=maxlen\n",
        ")\n",
        "\n",
        "y_all = data['label_text'].values\n",
        "\n",
        "# Preprocess test data using the same tokenizer\n",
        "X_test, _ = preprocess_texts(\n",
        "    data2['text'],\n",
        "    tokenizer=tokenizer,\n",
        "    fit_tokenizer=False,\n",
        "    maxlen=maxlen\n",
        ")\n",
        "\n",
        "y_test = data2['label_text'].values\n",
        "\n",
        "# Split a validation set from training\n",
        "X_train, X_val, y_train, y_val = train_test_split(\n",
        "    X_all, y_all, test_size=0.2, random_state=42, stratify=y_all\n",
        ")\n"
      ]
    },
    {
      "cell_type": "code",
      "execution_count": null,
      "metadata": {
        "id": "7EZv1fx6BX1W"
      },
      "outputs": [],
      "source": [
        "# Example hyperparameters (adjust to your data)\n",
        "vocab_size = 20000      # size of your vocabulary\n",
        "embedding_dim = 128     # dimension of embeddings\n",
        "max_length = 100        # maximum sequence length\n",
        "num_classes = 2         # number of output classes (binary=2)"
      ]
    },
    {
      "cell_type": "code",
      "execution_count": null,
      "metadata": {
        "id": "OEHapkDE9U0Z"
      },
      "outputs": [],
      "source": [
        "def build_1d_cnn(vocab_size, embedding_dim, max_length, num_classes):\n",
        "    model = Sequential([\n",
        "        # Embedding layer\n",
        "        Embedding(input_dim=vocab_size, output_dim=embedding_dim, input_length=max_length),\n",
        "\n",
        "        # First convolution + pooling block\n",
        "        Conv1D(filters=128, kernel_size=5, activation='relu', padding='same'),\n",
        "        GlobalMaxPooling1D(),\n",
        "        Dropout(0.5),\n",
        "\n",
        "        # Second block (optional)\n",
        "        # Conv1D(filters=64, kernel_size=3, activation='relu', padding='same'),\n",
        "        # GlobalMaxPooling1D(),\n",
        "        # Dropout(0.5),\n",
        "\n",
        "        # Fully connected classifier\n",
        "        Dense(64, activation='relu'),\n",
        "        Dropout(0.5),\n",
        "        Dense(num_classes, activation='softmax' if num_classes > 1 else 'sigmoid')\n",
        "    ])\n",
        "\n",
        "    # Compile the model\n",
        "    loss = 'sparse_categorical_crossentropy' if num_classes > 1 else 'binary_crossentropy'\n",
        "    model.compile(optimizer='adam', loss=loss, metrics=['accuracy'])\n",
        "    return model\n"
      ]
    },
    {
      "cell_type": "code",
      "execution_count": null,
      "metadata": {
        "colab": {
          "base_uri": "https://localhost:8080/",
          "height": 405
        },
        "id": "1ckMRCH7MYK6",
        "outputId": "78fceb18-f7a0-4468-e04f-522f252a6116"
      },
      "outputs": [
        {
          "name": "stderr",
          "output_type": "stream",
          "text": [
            "/usr/local/lib/python3.11/dist-packages/keras/src/layers/core/embedding.py:90: UserWarning: Argument `input_length` is deprecated. Just remove it.\n",
            "  warnings.warn(\n"
          ]
        },
        {
          "data": {
            "text/html": [
              "<pre style=\"white-space:pre;overflow-x:auto;line-height:normal;font-family:Menlo,'DejaVu Sans Mono',consolas,'Courier New',monospace\"><span style=\"font-weight: bold\">Model: \"sequential\"</span>\n",
              "</pre>\n"
            ],
            "text/plain": [
              "\u001b[1mModel: \"sequential\"\u001b[0m\n"
            ]
          },
          "metadata": {},
          "output_type": "display_data"
        },
        {
          "data": {
            "text/html": [
              "<pre style=\"white-space:pre;overflow-x:auto;line-height:normal;font-family:Menlo,'DejaVu Sans Mono',consolas,'Courier New',monospace\">┏━━━━━━━━━━━━━━━━━━━━━━━━━━━━━━━━━┳━━━━━━━━━━━━━━━━━━━━━━━━┳━━━━━━━━━━━━━━━┓\n",
              "┃<span style=\"font-weight: bold\"> Layer (type)                    </span>┃<span style=\"font-weight: bold\"> Output Shape           </span>┃<span style=\"font-weight: bold\">       Param # </span>┃\n",
              "┡━━━━━━━━━━━━━━━━━━━━━━━━━━━━━━━━━╇━━━━━━━━━━━━━━━━━━━━━━━━╇━━━━━━━━━━━━━━━┩\n",
              "│ embedding (<span style=\"color: #0087ff; text-decoration-color: #0087ff\">Embedding</span>)           │ ?                      │   <span style=\"color: #00af00; text-decoration-color: #00af00\">0</span> (unbuilt) │\n",
              "├─────────────────────────────────┼────────────────────────┼───────────────┤\n",
              "│ conv1d (<span style=\"color: #0087ff; text-decoration-color: #0087ff\">Conv1D</span>)                 │ ?                      │   <span style=\"color: #00af00; text-decoration-color: #00af00\">0</span> (unbuilt) │\n",
              "├─────────────────────────────────┼────────────────────────┼───────────────┤\n",
              "│ global_max_pooling1d            │ ?                      │             <span style=\"color: #00af00; text-decoration-color: #00af00\">0</span> │\n",
              "│ (<span style=\"color: #0087ff; text-decoration-color: #0087ff\">GlobalMaxPooling1D</span>)            │                        │               │\n",
              "├─────────────────────────────────┼────────────────────────┼───────────────┤\n",
              "│ dropout (<span style=\"color: #0087ff; text-decoration-color: #0087ff\">Dropout</span>)               │ ?                      │             <span style=\"color: #00af00; text-decoration-color: #00af00\">0</span> │\n",
              "├─────────────────────────────────┼────────────────────────┼───────────────┤\n",
              "│ dense (<span style=\"color: #0087ff; text-decoration-color: #0087ff\">Dense</span>)                   │ ?                      │   <span style=\"color: #00af00; text-decoration-color: #00af00\">0</span> (unbuilt) │\n",
              "├─────────────────────────────────┼────────────────────────┼───────────────┤\n",
              "│ dropout_1 (<span style=\"color: #0087ff; text-decoration-color: #0087ff\">Dropout</span>)             │ ?                      │             <span style=\"color: #00af00; text-decoration-color: #00af00\">0</span> │\n",
              "├─────────────────────────────────┼────────────────────────┼───────────────┤\n",
              "│ dense_1 (<span style=\"color: #0087ff; text-decoration-color: #0087ff\">Dense</span>)                 │ ?                      │   <span style=\"color: #00af00; text-decoration-color: #00af00\">0</span> (unbuilt) │\n",
              "└─────────────────────────────────┴────────────────────────┴───────────────┘\n",
              "</pre>\n"
            ],
            "text/plain": [
              "┏━━━━━━━━━━━━━━━━━━━━━━━━━━━━━━━━━┳━━━━━━━━━━━━━━━━━━━━━━━━┳━━━━━━━━━━━━━━━┓\n",
              "┃\u001b[1m \u001b[0m\u001b[1mLayer (type)                   \u001b[0m\u001b[1m \u001b[0m┃\u001b[1m \u001b[0m\u001b[1mOutput Shape          \u001b[0m\u001b[1m \u001b[0m┃\u001b[1m \u001b[0m\u001b[1m      Param #\u001b[0m\u001b[1m \u001b[0m┃\n",
              "┡━━━━━━━━━━━━━━━━━━━━━━━━━━━━━━━━━╇━━━━━━━━━━━━━━━━━━━━━━━━╇━━━━━━━━━━━━━━━┩\n",
              "│ embedding (\u001b[38;5;33mEmbedding\u001b[0m)           │ ?                      │   \u001b[38;5;34m0\u001b[0m (unbuilt) │\n",
              "├─────────────────────────────────┼────────────────────────┼───────────────┤\n",
              "│ conv1d (\u001b[38;5;33mConv1D\u001b[0m)                 │ ?                      │   \u001b[38;5;34m0\u001b[0m (unbuilt) │\n",
              "├─────────────────────────────────┼────────────────────────┼───────────────┤\n",
              "│ global_max_pooling1d            │ ?                      │             \u001b[38;5;34m0\u001b[0m │\n",
              "│ (\u001b[38;5;33mGlobalMaxPooling1D\u001b[0m)            │                        │               │\n",
              "├─────────────────────────────────┼────────────────────────┼───────────────┤\n",
              "│ dropout (\u001b[38;5;33mDropout\u001b[0m)               │ ?                      │             \u001b[38;5;34m0\u001b[0m │\n",
              "├─────────────────────────────────┼────────────────────────┼───────────────┤\n",
              "│ dense (\u001b[38;5;33mDense\u001b[0m)                   │ ?                      │   \u001b[38;5;34m0\u001b[0m (unbuilt) │\n",
              "├─────────────────────────────────┼────────────────────────┼───────────────┤\n",
              "│ dropout_1 (\u001b[38;5;33mDropout\u001b[0m)             │ ?                      │             \u001b[38;5;34m0\u001b[0m │\n",
              "├─────────────────────────────────┼────────────────────────┼───────────────┤\n",
              "│ dense_1 (\u001b[38;5;33mDense\u001b[0m)                 │ ?                      │   \u001b[38;5;34m0\u001b[0m (unbuilt) │\n",
              "└─────────────────────────────────┴────────────────────────┴───────────────┘\n"
            ]
          },
          "metadata": {},
          "output_type": "display_data"
        },
        {
          "data": {
            "text/html": [
              "<pre style=\"white-space:pre;overflow-x:auto;line-height:normal;font-family:Menlo,'DejaVu Sans Mono',consolas,'Courier New',monospace\"><span style=\"font-weight: bold\"> Total params: </span><span style=\"color: #00af00; text-decoration-color: #00af00\">0</span> (0.00 B)\n",
              "</pre>\n"
            ],
            "text/plain": [
              "\u001b[1m Total params: \u001b[0m\u001b[38;5;34m0\u001b[0m (0.00 B)\n"
            ]
          },
          "metadata": {},
          "output_type": "display_data"
        },
        {
          "data": {
            "text/html": [
              "<pre style=\"white-space:pre;overflow-x:auto;line-height:normal;font-family:Menlo,'DejaVu Sans Mono',consolas,'Courier New',monospace\"><span style=\"font-weight: bold\"> Trainable params: </span><span style=\"color: #00af00; text-decoration-color: #00af00\">0</span> (0.00 B)\n",
              "</pre>\n"
            ],
            "text/plain": [
              "\u001b[1m Trainable params: \u001b[0m\u001b[38;5;34m0\u001b[0m (0.00 B)\n"
            ]
          },
          "metadata": {},
          "output_type": "display_data"
        },
        {
          "data": {
            "text/html": [
              "<pre style=\"white-space:pre;overflow-x:auto;line-height:normal;font-family:Menlo,'DejaVu Sans Mono',consolas,'Courier New',monospace\"><span style=\"font-weight: bold\"> Non-trainable params: </span><span style=\"color: #00af00; text-decoration-color: #00af00\">0</span> (0.00 B)\n",
              "</pre>\n"
            ],
            "text/plain": [
              "\u001b[1m Non-trainable params: \u001b[0m\u001b[38;5;34m0\u001b[0m (0.00 B)\n"
            ]
          },
          "metadata": {},
          "output_type": "display_data"
        }
      ],
      "source": [
        "# Build and summarize\n",
        "model = build_1d_cnn(vocab_size, embedding_dim, max_length, num_classes)\n",
        "model.summary()"
      ]
    },
    {
      "cell_type": "code",
      "execution_count": null,
      "metadata": {
        "colab": {
          "base_uri": "https://localhost:8080/"
        },
        "id": "dpP4h8F4v7C3",
        "outputId": "06f19037-8e4a-43ae-820f-81dc79a7a780"
      },
      "outputs": [
        {
          "name": "stdout",
          "output_type": "stream",
          "text": [
            "Training Model...\n",
            "Epoch 1/5\n",
            "\u001b[1m1941/1941\u001b[0m \u001b[32m━━━━━━━━━━━━━━━━━━━━\u001b[0m\u001b[37m\u001b[0m \u001b[1m17s\u001b[0m 6ms/step - accuracy: 0.7382 - loss: 0.4922 - val_accuracy: 0.8899 - val_loss: 0.2734\n",
            "Epoch 2/5\n",
            "\u001b[1m1941/1941\u001b[0m \u001b[32m━━━━━━━━━━━━━━━━━━━━\u001b[0m\u001b[37m\u001b[0m \u001b[1m14s\u001b[0m 4ms/step - accuracy: 0.9169 - loss: 0.2210 - val_accuracy: 0.9038 - val_loss: 0.2494\n",
            "Epoch 3/5\n",
            "\u001b[1m1941/1941\u001b[0m \u001b[32m━━━━━━━━━━━━━━━━━━━━\u001b[0m\u001b[37m\u001b[0m \u001b[1m10s\u001b[0m 4ms/step - accuracy: 0.9414 - loss: 0.1605 - val_accuracy: 0.9079 - val_loss: 0.2579\n",
            "Epoch 4/5\n",
            "\u001b[1m1941/1941\u001b[0m \u001b[32m━━━━━━━━━━━━━━━━━━━━\u001b[0m\u001b[37m\u001b[0m \u001b[1m10s\u001b[0m 4ms/step - accuracy: 0.9537 - loss: 0.1233 - val_accuracy: 0.9089 - val_loss: 0.2772\n",
            "Epoch 5/5\n",
            "\u001b[1m1941/1941\u001b[0m \u001b[32m━━━━━━━━━━━━━━━━━━━━\u001b[0m\u001b[37m\u001b[0m \u001b[1m11s\u001b[0m 4ms/step - accuracy: 0.9590 - loss: 0.1029 - val_accuracy: 0.9098 - val_loss: 0.3049\n",
            "Training Model took: 61.77 seconds\n"
          ]
        }
      ],
      "source": [
        "print('Training Model...')\n",
        "start_fitting = time.time()\n",
        "history = model.fit(\n",
        "    X_train, y_train,\n",
        "    batch_size=BATCH_SIZE,\n",
        "    epochs=NUM_EPOCHS,\n",
        "    validation_data=(X_val, y_val)\n",
        ")\n",
        "fitting_model_time = time.time()\n",
        "print(f'Training Model took: {fitting_model_time - start_fitting:.2f} seconds')"
      ]
    },
    {
      "cell_type": "code",
      "execution_count": null,
      "metadata": {
        "colab": {
          "base_uri": "https://localhost:8080/",
          "height": 775
        },
        "id": "nz62GvDMENzE",
        "outputId": "4e47a1c4-7979-4c80-88a8-09e2f03a71e8"
      },
      "outputs": [
        {
          "name": "stdout",
          "output_type": "stream",
          "text": [
            "\u001b[1m57/57\u001b[0m \u001b[32m━━━━━━━━━━━━━━━━━━━━\u001b[0m\u001b[37m\u001b[0m \u001b[1m1s\u001b[0m 12ms/step\n",
            "Confusion Matrix:\n",
            "[[697 215]\n",
            " [181 728]]\n",
            "\n",
            "Classification Report:\n",
            "              precision    recall  f1-score   support\n",
            "\n",
            "     Class 0       0.79      0.76      0.78       912\n",
            "     Class 1       0.77      0.80      0.79       909\n",
            "\n",
            "    accuracy                           0.78      1821\n",
            "   macro avg       0.78      0.78      0.78      1821\n",
            "weighted avg       0.78      0.78      0.78      1821\n",
            "\n"
          ]
        },
        {
          "data": {
            "image/png": "[encoded data removed]",
            "text/plain": [
              "<Figure size 500x500 with 2 Axes>"
            ]
          },
          "metadata": {},
          "output_type": "display_data"
        }
      ],
      "source": [
        "from sklearn.metrics import confusion_matrix, classification_report\n",
        "import matplotlib.pyplot as plt\n",
        "import numpy as np\n",
        "\n",
        "probs = model.predict(X_test)\n",
        "\n",
        "if probs.ndim == 2 and probs.shape[1] > 1:\n",
        "    y_pred = np.argmax(probs, axis=1)\n",
        "else:\n",
        "    y_pred = (probs.reshape(-1) > 0.5).astype(int)\n",
        "\n",
        "y_true = y_test\n",
        "\n",
        "cm = confusion_matrix(y_true, y_pred)\n",
        "print(\"Confusion Matrix:\")\n",
        "print(cm)\n",
        "\n",
        "print(\"\\nClassification Report:\")\n",
        "print(classification_report(y_true, y_pred, target_names=['Class 0', 'Class 1']))\n",
        "\n",
        "plt.figure(figsize=(5, 5))\n",
        "plt.imshow(cm, interpolation='nearest', cmap=plt.cm.Blues)\n",
        "plt.title(\"Confusion Matrix\")\n",
        "plt.colorbar()\n",
        "tick_marks = np.arange(2)\n",
        "plt.xticks(tick_marks, ['Class 0','Class 1'])\n",
        "plt.yticks(tick_marks, ['Class 0','Class 1'])\n",
        "plt.ylabel('True label')\n",
        "plt.xlabel('Predicted label')\n",
        "\n",
        "thresh = cm.max() / 2\n",
        "for i, j in np.ndindex(cm.shape):\n",
        "    plt.text(j, i, format(cm[i, j], 'd'),\n",
        "             ha=\"center\", va=\"center\",\n",
        "             color=\"white\" if cm[i, j] > thresh else \"black\")\n",
        "\n",
        "plt.tight_layout()\n",
        "plt.show()\n"
      ]
    },
    {
      "cell_type": "code",
      "execution_count": null,
      "metadata": {
        "id": "OWzaW6zEEhFK"
      },
      "outputs": [],
      "source": [
        "# Save the model to a file\n",
        "model.save(\"1D_CNN.keras\")"
      ]
    }
  ],
  "metadata": {
    "accelerator": "GPU",
    "colab": {
      "gpuType": "T4",
      "provenance": []
    },
    "kernelspec": {
      "display_name": "venv",
      "language": "python",
      "name": "python3"
    },
    "language_info": {
      "name": "python",
      "version": "3.8.10"
    }
  },
  "nbformat": 4,
  "nbformat_minor": 0
}
