{
  "cells": [
    {
      "cell_type": "code",
      "execution_count": 42,
      "metadata": {
        "colab": {
          "base_uri": "https://localhost:8080/"
        },
        "id": "IyWpMcpLSjsJ",
        "outputId": "731fa470-c773-4118-abac-cb182ef83bce"
      },
      "outputs": [
        {
          "output_type": "stream",
          "name": "stdout",
          "text": [
            "Requirement already satisfied: emoji in /usr/local/lib/python3.11/dist-packages (2.14.1)\n"
          ]
        }
      ],
      "source": [
        "%pip install emoji"
      ]
    },
    {
      "cell_type": "code",
      "execution_count": 43,
      "metadata": {
        "id": "RGP7P6qLEsxD"
      },
      "outputs": [],
      "source": [
        "import numpy as np\n",
        "import pandas as pd\n",
        "import matplotlib.pyplot as plt\n",
        "from sklearn.preprocessing import MinMaxScaler\n",
        "from sklearn.model_selection import train_test_split\n",
        "from sklearn.metrics import confusion_matrix, classification_report\n",
        "import re\n",
        "import time\n",
        "import emoji\n",
        "import nltk\n",
        "import numpy as np\n",
        "from nltk.corpus import stopwords\n",
        "from nltk.stem import PorterStemmer, WordNetLemmatizer\n",
        "from tqdm.auto import tqdm\n",
        "import tensorflow as tf\n",
        "#%matplotlib inline\n",
        "import tensorflow as tf\n",
        "from tensorflow.keras.preprocessing.text import Tokenizer\n",
        "from tensorflow.keras.preprocessing.sequence import pad_sequences\n",
        "from tensorflow.keras.models import Sequential\n",
        "from tensorflow.keras.layers import Embedding, GRU, Dense, Dropout\n",
        "from tensorflow.keras.models import Model\n",
        "from tensorflow.keras.preprocessing.text import Tokenizer\n",
        "from tensorflow.keras.preprocessing.sequence import pad_sequences"
      ]
    },
    {
      "cell_type": "code",
      "execution_count": 44,
      "metadata": {
        "colab": {
          "base_uri": "https://localhost:8080/"
        },
        "id": "nCpVOtNoFdMa",
        "outputId": "7b53f7d2-bd8e-45da-c857-ccec09450101"
      },
      "outputs": [
        {
          "output_type": "stream",
          "name": "stderr",
          "text": [
            "[nltk_data] Downloading package stopwords to /root/nltk_data...\n",
            "[nltk_data]   Package stopwords is already up-to-date!\n",
            "[nltk_data] Downloading package wordnet to /root/nltk_data...\n",
            "[nltk_data]   Package wordnet is already up-to-date!\n"
          ]
        },
        {
          "output_type": "execute_result",
          "data": {
            "text/plain": [
              "True"
            ]
          },
          "metadata": {},
          "execution_count": 44
        }
      ],
      "source": [
        "nltk.download('stopwords')\n",
        "nltk.download('wordnet')"
      ]
    },
    {
      "cell_type": "code",
      "source": [
        "stop_words = set(stopwords.words(\"english\"))\n",
        "stemmer = PorterStemmer()\n",
        "lemmatizer = WordNetLemmatizer()"
      ],
      "metadata": {
        "id": "v929UZmFq4u_"
      },
      "execution_count": 45,
      "outputs": []
    },
    {
      "cell_type": "code",
      "execution_count": 46,
      "metadata": {
        "colab": {
          "base_uri": "https://localhost:8080/"
        },
        "id": "Sc2jHIqyFg3C",
        "outputId": "5d43ed8e-62ac-4ce4-ae5e-859b7b17450c"
      },
      "outputs": [
        {
          "output_type": "stream",
          "name": "stdout",
          "text": [
            "Configuration Loaded Successfully!\n"
          ]
        }
      ],
      "source": [
        "TRAIN_DATA_PATH = '/content/train.csv'\n",
        "TEST_DATA_PATH = '/content/test.csv'\n",
        "SAVED_MODEL_PATH = '/content/model.keras'\n",
        "VOCAB_SIZE = 10000  # Vocabulary size for tokenizer\n",
        "EMBEDDING_DIM = 100  # Embedding dimension for LSTM\n",
        "MAX_LEN = 128  # Maximum sequence length\n",
        "BATCH_SIZE = 32\n",
        "NUM_CLASSES = 2\n",
        "LEARNING_RATE = 2e-5\n",
        "NUM_EPOCHS = 5\n",
        "\n",
        "print(\"Configuration Loaded Successfully!\")"
      ]
    },
    {
      "cell_type": "code",
      "execution_count": 47,
      "metadata": {
        "id": "7A5ukCY7FjS6"
      },
      "outputs": [],
      "source": [
        "def clean_text(text):\n",
        "    \"\"\"Cleans text by removing emojis, special characters, lowercasing, stemming, and lemmatizing.\"\"\"\n",
        "    text = emoji.replace_emoji(text, replace=\"\")\n",
        "    text = text.lower()\n",
        "    text = re.sub(r\"[^a-zA-Z0-9\\s]\", \"\", text)\n",
        "    text = \" \".join(text.split())\n",
        "    words = text.split()\n",
        "    words = [lemmatizer.lemmatize(stemmer.stem(word)) for word in words if word.lower() not in stop_words]\n",
        "    return \" \".join(words)"
      ]
    },
    {
      "cell_type": "code",
      "source": [
        "def preprocess_texts(texts, tokenizer=None, fit_tokenizer=False,\n",
        "                     num_words=10000, maxlen=100, oov_token='<OOV>'):\n",
        "    # Clean\n",
        "    cleaned = [clean_text(t) for t in texts]\n",
        "\n",
        "    # Tokenizer\n",
        "    if tokenizer is None and fit_tokenizer:\n",
        "        tokenizer = Tokenizer(num_words=num_words, oov_token=oov_token)\n",
        "        tokenizer.fit_on_texts(cleaned)\n",
        "    elif tokenizer is None:\n",
        "        raise ValueError(\"Tokenizer must be provided if not fitting a new one.\")\n",
        "\n",
        "    # Text to sequences\n",
        "    seqs = tokenizer.texts_to_sequences(cleaned)\n",
        "    # Pad\n",
        "    padded = pad_sequences(seqs, maxlen=maxlen, padding='post', truncating='post')\n",
        "\n",
        "    return padded, tokenizer"
      ],
      "metadata": {
        "id": "x8Ud7FMiNjTl"
      },
      "execution_count": 48,
      "outputs": []
    },
    {
      "cell_type": "code",
      "execution_count": 49,
      "metadata": {
        "id": "oz8HuijrFoSM",
        "colab": {
          "base_uri": "https://localhost:8080/"
        },
        "outputId": "35cf8e30-3d7c-4ada-bd3d-1c613a988f53"
      },
      "outputs": [
        {
          "output_type": "stream",
          "name": "stdout",
          "text": [
            "Number of samples after dropping NaN and \"formality\" style: 77616\n",
            "label_text\n",
            "positive         33361\n",
            "negative         27711\n",
            "very positive     9311\n",
            "very negative     7233\n",
            "Name: count, dtype: int64\n"
          ]
        }
      ],
      "source": [
        "data = pd.read_csv(TRAIN_DATA_PATH).drop_duplicates()\n",
        "data = data.dropna(subset=['text'])\n",
        "data = data[data['style'] != 'formality']  # Drop rows where style is 'formality'\n",
        "data = data[data['label_text'] != 'neutral']\n",
        "print(f'Number of samples after dropping NaN and \"formality\" style: {len(data)}')\n",
        "data.head()\n",
        "print(data['label_text'].value_counts())"
      ]
    },
    {
      "cell_type": "code",
      "source": [
        "data2 = pd.read_csv(TEST_DATA_PATH).drop_duplicates()\n",
        "data2 = data2.dropna(subset=['text'])\n",
        "data2 = data2[data2['style'] != 'formality']  # Drop rows where style is 'formality'\n",
        "data2 = data2[data2['label_text'] != 'neutral']\n",
        "print(f'Number of samples after dropping NaN and \"formality\" style: {len(data2)}')\n",
        "data2.head()\n",
        "print(data2['label_text'].value_counts())"
      ],
      "metadata": {
        "id": "4dtORkC0AZPY",
        "colab": {
          "base_uri": "https://localhost:8080/"
        },
        "outputId": "1c3b4bcf-3b1f-444c-f380-aa5f49e32562"
      },
      "execution_count": 50,
      "outputs": [
        {
          "output_type": "stream",
          "name": "stdout",
          "text": [
            "Number of samples after dropping NaN and \"formality\" style: 1821\n",
            "label_text\n",
            "negative         633\n",
            "positive         510\n",
            "very positive    399\n",
            "very negative    279\n",
            "Name: count, dtype: int64\n"
          ]
        }
      ]
    },
    {
      "cell_type": "code",
      "execution_count": 51,
      "metadata": {
        "id": "QpJqE5raRlIk"
      },
      "outputs": [],
      "source": [
        "data['label_text'] = data['label_text'].apply(\n",
        "    lambda x: 0 if x in ['very negative', 'negative'] else 1\n",
        ")\n",
        "data.head()\n",
        "\n",
        "data2['label_text'] = data2['label_text'].apply(\n",
        "    lambda x: 0 if x in ['very negative', 'negative'] else 1\n",
        ")\n"
      ]
    },
    {
      "cell_type": "code",
      "execution_count": 52,
      "metadata": {
        "id": "-IMW035IRm3D"
      },
      "outputs": [],
      "source": [
        "max_features = 20000\n",
        "tokenizer = Tokenizer(num_words=max_features)\n",
        "tokenizer.fit_on_texts(list(data))\n",
        "list_tokenized_train = tokenizer.texts_to_sequences(data)\n",
        "list_tokenized_test = tokenizer.texts_to_sequences(data)"
      ]
    },
    {
      "cell_type": "code",
      "source": [
        "num_words = 10000\n",
        "maxlen = 100\n",
        "\n",
        "# Preprocess training data and fit tokenizer\n",
        "X_all, tokenizer = preprocess_texts(\n",
        "    data['text'],\n",
        "    tokenizer=None,\n",
        "    fit_tokenizer=True,\n",
        "    num_words=num_words,\n",
        "    maxlen=maxlen\n",
        ")\n",
        "\n",
        "y_all = data['label_text'].values\n",
        "\n",
        "# Preprocess test data using the same tokenizer\n",
        "X_test, _ = preprocess_texts(\n",
        "    data2['text'],\n",
        "    tokenizer=tokenizer,\n",
        "    fit_tokenizer=False,\n",
        "    maxlen=maxlen\n",
        ")\n",
        "\n",
        "y_test = data2['label_text'].values\n",
        "\n",
        "# Split a validation set from training\n",
        "X_train, X_val, y_train, y_val = train_test_split(\n",
        "    X_all, y_all, test_size=0.2, random_state=42, stratify=y_all\n",
        ")\n"
      ],
      "metadata": {
        "id": "zSf0V0CMAW5D"
      },
      "execution_count": 53,
      "outputs": []
    },
    {
      "cell_type": "code",
      "source": [
        "# Parameters\n",
        "max_features = 10000  # Top 10,000 words\n",
        "maxlen = 100  # Maximum length of reviews (in terms of words)\n",
        "embed_size = 128"
      ],
      "metadata": {
        "id": "7EZv1fx6BX1W"
      },
      "execution_count": 54,
      "outputs": []
    },
    {
      "cell_type": "code",
      "source": [
        "from tensorflow.keras.layers import Input, Embedding, GRU, GlobalMaxPool1D, Dropout, Dense\n",
        "from tensorflow.keras.models import Model\n",
        "\n",
        "# Input and Embedding\n",
        "inp = Input(shape=(maxlen,))\n",
        "x = Embedding(input_dim=max_features, output_dim=embed_size)(inp)\n",
        "\n",
        "# GRU Layer\n",
        "output_dimension = 60\n",
        "x = GRU(output_dimension, return_sequences=True, name='gru_layer')(x)\n",
        "\n",
        "# Reduce dimensionality\n",
        "x = GlobalMaxPool1D()(x)\n",
        "\n",
        "# Dropout and Dense layers\n",
        "x = Dropout(0.1)(x)\n",
        "x = Dense(50, activation=\"relu\")(x)\n",
        "x = Dropout(0.1)(x)\n",
        "\n",
        "# Output layer for binary classification\n",
        "x = Dense(1, activation=\"sigmoid\")(x)\n"
      ],
      "metadata": {
        "id": "OEHapkDE9U0Z"
      },
      "execution_count": 55,
      "outputs": []
    },
    {
      "cell_type": "code",
      "source": [
        "# Compile model\n",
        "model = Model(inputs=inp, outputs=x)\n",
        "model.compile(loss='binary_crossentropy',\n",
        "              optimizer='adam',\n",
        "              metrics=['accuracy'])\n",
        "\n",
        "model.summary()"
      ],
      "metadata": {
        "colab": {
          "base_uri": "https://localhost:8080/",
          "height": 401
        },
        "id": "Zw3vfHaoJlsT",
        "outputId": "7c008d45-63fb-4384-cb8b-8c36c14dc8c1"
      },
      "execution_count": 56,
      "outputs": [
        {
          "output_type": "display_data",
          "data": {
            "text/plain": [
              "\u001b[1mModel: \"functional_2\"\u001b[0m\n"
            ],
            "text/html": [
              "<pre style=\"white-space:pre;overflow-x:auto;line-height:normal;font-family:Menlo,'DejaVu Sans Mono',consolas,'Courier New',monospace\"><span style=\"font-weight: bold\">Model: \"functional_2\"</span>\n",
              "</pre>\n"
            ]
          },
          "metadata": {}
        },
        {
          "output_type": "display_data",
          "data": {
            "text/plain": [
              "┏━━━━━━━━━━━━━━━━━━━━━━━━━━━━━━━━━┳━━━━━━━━━━━━━━━━━━━━━━━━┳━━━━━━━━━━━━━━━┓\n",
              "┃\u001b[1m \u001b[0m\u001b[1mLayer (type)                   \u001b[0m\u001b[1m \u001b[0m┃\u001b[1m \u001b[0m\u001b[1mOutput Shape          \u001b[0m\u001b[1m \u001b[0m┃\u001b[1m \u001b[0m\u001b[1m      Param #\u001b[0m\u001b[1m \u001b[0m┃\n",
              "┡━━━━━━━━━━━━━━━━━━━━━━━━━━━━━━━━━╇━━━━━━━━━━━━━━━━━━━━━━━━╇━━━━━━━━━━━━━━━┩\n",
              "│ input_layer_2 (\u001b[38;5;33mInputLayer\u001b[0m)      │ (\u001b[38;5;45mNone\u001b[0m, \u001b[38;5;34m100\u001b[0m)            │             \u001b[38;5;34m0\u001b[0m │\n",
              "├─────────────────────────────────┼────────────────────────┼───────────────┤\n",
              "│ embedding_3 (\u001b[38;5;33mEmbedding\u001b[0m)         │ (\u001b[38;5;45mNone\u001b[0m, \u001b[38;5;34m100\u001b[0m, \u001b[38;5;34m128\u001b[0m)       │     \u001b[38;5;34m1,280,000\u001b[0m │\n",
              "├─────────────────────────────────┼────────────────────────┼───────────────┤\n",
              "│ gru_layer (\u001b[38;5;33mGRU\u001b[0m)                 │ (\u001b[38;5;45mNone\u001b[0m, \u001b[38;5;34m100\u001b[0m, \u001b[38;5;34m60\u001b[0m)        │        \u001b[38;5;34m34,200\u001b[0m │\n",
              "├─────────────────────────────────┼────────────────────────┼───────────────┤\n",
              "│ global_max_pooling1d_1          │ (\u001b[38;5;45mNone\u001b[0m, \u001b[38;5;34m60\u001b[0m)             │             \u001b[38;5;34m0\u001b[0m │\n",
              "│ (\u001b[38;5;33mGlobalMaxPooling1D\u001b[0m)            │                        │               │\n",
              "├─────────────────────────────────┼────────────────────────┼───────────────┤\n",
              "│ dropout_2 (\u001b[38;5;33mDropout\u001b[0m)             │ (\u001b[38;5;45mNone\u001b[0m, \u001b[38;5;34m60\u001b[0m)             │             \u001b[38;5;34m0\u001b[0m │\n",
              "├─────────────────────────────────┼────────────────────────┼───────────────┤\n",
              "│ dense_4 (\u001b[38;5;33mDense\u001b[0m)                 │ (\u001b[38;5;45mNone\u001b[0m, \u001b[38;5;34m50\u001b[0m)             │         \u001b[38;5;34m3,050\u001b[0m │\n",
              "├─────────────────────────────────┼────────────────────────┼───────────────┤\n",
              "│ dropout_3 (\u001b[38;5;33mDropout\u001b[0m)             │ (\u001b[38;5;45mNone\u001b[0m, \u001b[38;5;34m50\u001b[0m)             │             \u001b[38;5;34m0\u001b[0m │\n",
              "├─────────────────────────────────┼────────────────────────┼───────────────┤\n",
              "│ dense_5 (\u001b[38;5;33mDense\u001b[0m)                 │ (\u001b[38;5;45mNone\u001b[0m, \u001b[38;5;34m1\u001b[0m)              │            \u001b[38;5;34m51\u001b[0m │\n",
              "└─────────────────────────────────┴────────────────────────┴───────────────┘\n"
            ],
            "text/html": [
              "<pre style=\"white-space:pre;overflow-x:auto;line-height:normal;font-family:Menlo,'DejaVu Sans Mono',consolas,'Courier New',monospace\">┏━━━━━━━━━━━━━━━━━━━━━━━━━━━━━━━━━┳━━━━━━━━━━━━━━━━━━━━━━━━┳━━━━━━━━━━━━━━━┓\n",
              "┃<span style=\"font-weight: bold\"> Layer (type)                    </span>┃<span style=\"font-weight: bold\"> Output Shape           </span>┃<span style=\"font-weight: bold\">       Param # </span>┃\n",
              "┡━━━━━━━━━━━━━━━━━━━━━━━━━━━━━━━━━╇━━━━━━━━━━━━━━━━━━━━━━━━╇━━━━━━━━━━━━━━━┩\n",
              "│ input_layer_2 (<span style=\"color: #0087ff; text-decoration-color: #0087ff\">InputLayer</span>)      │ (<span style=\"color: #00d7ff; text-decoration-color: #00d7ff\">None</span>, <span style=\"color: #00af00; text-decoration-color: #00af00\">100</span>)            │             <span style=\"color: #00af00; text-decoration-color: #00af00\">0</span> │\n",
              "├─────────────────────────────────┼────────────────────────┼───────────────┤\n",
              "│ embedding_3 (<span style=\"color: #0087ff; text-decoration-color: #0087ff\">Embedding</span>)         │ (<span style=\"color: #00d7ff; text-decoration-color: #00d7ff\">None</span>, <span style=\"color: #00af00; text-decoration-color: #00af00\">100</span>, <span style=\"color: #00af00; text-decoration-color: #00af00\">128</span>)       │     <span style=\"color: #00af00; text-decoration-color: #00af00\">1,280,000</span> │\n",
              "├─────────────────────────────────┼────────────────────────┼───────────────┤\n",
              "│ gru_layer (<span style=\"color: #0087ff; text-decoration-color: #0087ff\">GRU</span>)                 │ (<span style=\"color: #00d7ff; text-decoration-color: #00d7ff\">None</span>, <span style=\"color: #00af00; text-decoration-color: #00af00\">100</span>, <span style=\"color: #00af00; text-decoration-color: #00af00\">60</span>)        │        <span style=\"color: #00af00; text-decoration-color: #00af00\">34,200</span> │\n",
              "├─────────────────────────────────┼────────────────────────┼───────────────┤\n",
              "│ global_max_pooling1d_1          │ (<span style=\"color: #00d7ff; text-decoration-color: #00d7ff\">None</span>, <span style=\"color: #00af00; text-decoration-color: #00af00\">60</span>)             │             <span style=\"color: #00af00; text-decoration-color: #00af00\">0</span> │\n",
              "│ (<span style=\"color: #0087ff; text-decoration-color: #0087ff\">GlobalMaxPooling1D</span>)            │                        │               │\n",
              "├─────────────────────────────────┼────────────────────────┼───────────────┤\n",
              "│ dropout_2 (<span style=\"color: #0087ff; text-decoration-color: #0087ff\">Dropout</span>)             │ (<span style=\"color: #00d7ff; text-decoration-color: #00d7ff\">None</span>, <span style=\"color: #00af00; text-decoration-color: #00af00\">60</span>)             │             <span style=\"color: #00af00; text-decoration-color: #00af00\">0</span> │\n",
              "├─────────────────────────────────┼────────────────────────┼───────────────┤\n",
              "│ dense_4 (<span style=\"color: #0087ff; text-decoration-color: #0087ff\">Dense</span>)                 │ (<span style=\"color: #00d7ff; text-decoration-color: #00d7ff\">None</span>, <span style=\"color: #00af00; text-decoration-color: #00af00\">50</span>)             │         <span style=\"color: #00af00; text-decoration-color: #00af00\">3,050</span> │\n",
              "├─────────────────────────────────┼────────────────────────┼───────────────┤\n",
              "│ dropout_3 (<span style=\"color: #0087ff; text-decoration-color: #0087ff\">Dropout</span>)             │ (<span style=\"color: #00d7ff; text-decoration-color: #00d7ff\">None</span>, <span style=\"color: #00af00; text-decoration-color: #00af00\">50</span>)             │             <span style=\"color: #00af00; text-decoration-color: #00af00\">0</span> │\n",
              "├─────────────────────────────────┼────────────────────────┼───────────────┤\n",
              "│ dense_5 (<span style=\"color: #0087ff; text-decoration-color: #0087ff\">Dense</span>)                 │ (<span style=\"color: #00d7ff; text-decoration-color: #00d7ff\">None</span>, <span style=\"color: #00af00; text-decoration-color: #00af00\">1</span>)              │            <span style=\"color: #00af00; text-decoration-color: #00af00\">51</span> │\n",
              "└─────────────────────────────────┴────────────────────────┴───────────────┘\n",
              "</pre>\n"
            ]
          },
          "metadata": {}
        },
        {
          "output_type": "display_data",
          "data": {
            "text/plain": [
              "\u001b[1m Total params: \u001b[0m\u001b[38;5;34m1,317,301\u001b[0m (5.03 MB)\n"
            ],
            "text/html": [
              "<pre style=\"white-space:pre;overflow-x:auto;line-height:normal;font-family:Menlo,'DejaVu Sans Mono',consolas,'Courier New',monospace\"><span style=\"font-weight: bold\"> Total params: </span><span style=\"color: #00af00; text-decoration-color: #00af00\">1,317,301</span> (5.03 MB)\n",
              "</pre>\n"
            ]
          },
          "metadata": {}
        },
        {
          "output_type": "display_data",
          "data": {
            "text/plain": [
              "\u001b[1m Trainable params: \u001b[0m\u001b[38;5;34m1,317,301\u001b[0m (5.03 MB)\n"
            ],
            "text/html": [
              "<pre style=\"white-space:pre;overflow-x:auto;line-height:normal;font-family:Menlo,'DejaVu Sans Mono',consolas,'Courier New',monospace\"><span style=\"font-weight: bold\"> Trainable params: </span><span style=\"color: #00af00; text-decoration-color: #00af00\">1,317,301</span> (5.03 MB)\n",
              "</pre>\n"
            ]
          },
          "metadata": {}
        },
        {
          "output_type": "display_data",
          "data": {
            "text/plain": [
              "\u001b[1m Non-trainable params: \u001b[0m\u001b[38;5;34m0\u001b[0m (0.00 B)\n"
            ],
            "text/html": [
              "<pre style=\"white-space:pre;overflow-x:auto;line-height:normal;font-family:Menlo,'DejaVu Sans Mono',consolas,'Courier New',monospace\"><span style=\"font-weight: bold\"> Non-trainable params: </span><span style=\"color: #00af00; text-decoration-color: #00af00\">0</span> (0.00 B)\n",
              "</pre>\n"
            ]
          },
          "metadata": {}
        }
      ]
    },
    {
      "cell_type": "code",
      "source": [
        "print('Training Model...')\n",
        "start_fitting = time.time()\n",
        "history = model.fit(\n",
        "    X_train, y_train,\n",
        "    batch_size=BATCH_SIZE,\n",
        "    epochs=NUM_EPOCHS,\n",
        "    validation_data=(X_val, y_val)\n",
        ")\n",
        "fitting_model_time = time.time()\n",
        "print(f'Training Model took: {fitting_model_time - start_fitting:.2f} seconds')"
      ],
      "metadata": {
        "id": "dpP4h8F4v7C3",
        "colab": {
          "base_uri": "https://localhost:8080/"
        },
        "outputId": "ab772d44-4837-4953-dc5a-9ca5a60600aa"
      },
      "execution_count": 57,
      "outputs": [
        {
          "output_type": "stream",
          "name": "stdout",
          "text": [
            "Training Model...\n",
            "Epoch 1/5\n",
            "\u001b[1m1941/1941\u001b[0m \u001b[32m━━━━━━━━━━━━━━━━━━━━\u001b[0m\u001b[37m\u001b[0m \u001b[1m22s\u001b[0m 10ms/step - accuracy: 0.7590 - loss: 0.4892 - val_accuracy: 0.8866 - val_loss: 0.2866\n",
            "Epoch 2/5\n",
            "\u001b[1m1941/1941\u001b[0m \u001b[32m━━━━━━━━━━━━━━━━━━━━\u001b[0m\u001b[37m\u001b[0m \u001b[1m18s\u001b[0m 9ms/step - accuracy: 0.9148 - loss: 0.2281 - val_accuracy: 0.8973 - val_loss: 0.2651\n",
            "Epoch 3/5\n",
            "\u001b[1m1941/1941\u001b[0m \u001b[32m━━━━━━━━━━━━━━━━━━━━\u001b[0m\u001b[37m\u001b[0m \u001b[1m20s\u001b[0m 10ms/step - accuracy: 0.9369 - loss: 0.1636 - val_accuracy: 0.8993 - val_loss: 0.2639\n",
            "Epoch 4/5\n",
            "\u001b[1m1941/1941\u001b[0m \u001b[32m━━━━━━━━━━━━━━━━━━━━\u001b[0m\u001b[37m\u001b[0m \u001b[1m18s\u001b[0m 9ms/step - accuracy: 0.9475 - loss: 0.1295 - val_accuracy: 0.9038 - val_loss: 0.2843\n",
            "Epoch 5/5\n",
            "\u001b[1m1941/1941\u001b[0m \u001b[32m━━━━━━━━━━━━━━━━━━━━\u001b[0m\u001b[37m\u001b[0m \u001b[1m20s\u001b[0m 9ms/step - accuracy: 0.9553 - loss: 0.1086 - val_accuracy: 0.9031 - val_loss: 0.3282\n",
            "Training Model took: 98.11 seconds\n"
          ]
        }
      ]
    },
    {
      "cell_type": "code",
      "source": [
        "from sklearn.metrics import confusion_matrix, classification_report\n",
        "import matplotlib.pyplot as plt\n",
        "import numpy as np\n",
        "\n",
        "probs = model.predict(X_test)\n",
        "\n",
        "if probs.ndim == 2 and probs.shape[1] > 1:\n",
        "    y_pred = np.argmax(probs, axis=1)\n",
        "else:\n",
        "    y_pred = (probs.reshape(-1) > 0.5).astype(int)\n",
        "\n",
        "y_true = y_test\n",
        "\n",
        "cm = confusion_matrix(y_true, y_pred)\n",
        "print(\"Confusion Matrix:\")\n",
        "print(cm)\n",
        "\n",
        "print(\"\\nClassification Report:\")\n",
        "print(classification_report(y_true, y_pred, target_names=['Class 0', 'Class 1']))\n",
        "\n",
        "plt.figure(figsize=(5, 5))\n",
        "plt.imshow(cm, interpolation='nearest', cmap=plt.cm.Blues)\n",
        "plt.title(\"Confusion Matrix\")\n",
        "plt.colorbar()\n",
        "tick_marks = np.arange(2)\n",
        "plt.xticks(tick_marks, ['Class 0','Class 1'])\n",
        "plt.yticks(tick_marks, ['Class 0','Class 1'])\n",
        "plt.ylabel('True label')\n",
        "plt.xlabel('Predicted label')\n",
        "\n",
        "thresh = cm.max() / 2\n",
        "for i, j in np.ndindex(cm.shape):\n",
        "    plt.text(j, i, format(cm[i, j], 'd'),\n",
        "             ha=\"center\", va=\"center\",\n",
        "             color=\"white\" if cm[i, j] > thresh else \"black\")\n",
        "\n",
        "plt.tight_layout()\n",
        "plt.show()\n"
      ],
      "metadata": {
        "id": "nz62GvDMENzE",
        "colab": {
          "base_uri": "https://localhost:8080/",
          "height": 775
        },
        "outputId": "15fc8854-2621-41f7-de23-c61fe2ab98da"
      },
      "execution_count": 58,
      "outputs": [
        {
          "output_type": "stream",
          "name": "stdout",
          "text": [
            "\u001b[1m57/57\u001b[0m \u001b[32m━━━━━━━━━━━━━━━━━━━━\u001b[0m\u001b[37m\u001b[0m \u001b[1m0s\u001b[0m 5ms/step\n",
            "Confusion Matrix:\n",
            "[[644 268]\n",
            " [143 766]]\n",
            "\n",
            "Classification Report:\n",
            "              precision    recall  f1-score   support\n",
            "\n",
            "     Class 0       0.82      0.71      0.76       912\n",
            "     Class 1       0.74      0.84      0.79       909\n",
            "\n",
            "    accuracy                           0.77      1821\n",
            "   macro avg       0.78      0.77      0.77      1821\n",
            "weighted avg       0.78      0.77      0.77      1821\n",
            "\n"
          ]
        },
        {
          "output_type": "display_data",
          "data": {
            "text/plain": [
              "<Figure size 500x500 with 2 Axes>"
            ],
            "image/png": "[encoded data removed]"
          },
          "metadata": {}
        }
      ]
    },
    {
      "cell_type": "code",
      "source": [
        "# Save the model to a file\n",
        "model.save(\"GRU.keras\")"
      ],
      "metadata": {
        "id": "OWzaW6zEEhFK"
      },
      "execution_count": 59,
      "outputs": []
    }
  ],
  "metadata": {
    "accelerator": "GPU",
    "colab": {
      "gpuType": "T4",
      "provenance": []
    },
    "kernelspec": {
      "display_name": "Python 3",
      "name": "python3"
    },
    "language_info": {
      "name": "python"
    }
  },
  "nbformat": 4,
  "nbformat_minor": 0
}