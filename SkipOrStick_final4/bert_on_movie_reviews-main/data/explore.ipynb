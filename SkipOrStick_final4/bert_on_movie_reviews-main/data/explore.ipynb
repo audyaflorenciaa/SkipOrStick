{
 "cells": [
  {
   "cell_type": "code",
   "execution_count": 1,
   "metadata": {},
   "outputs": [],
   "source": [
    "import pandas as pd\n",
    "\n",
    "# for displaying purpose\n",
    "pd.set_option('display.max_colwidth', 200)"
   ]
  },
  {
   "cell_type": "code",
   "execution_count": 2,
   "metadata": {},
   "outputs": [],
   "source": [
    "# reading in the data\n",
    "TRAIN_DATA_PATH = \"train.csv\"\n",
    "TEST_DATA_PATH = \"test.csv\"\n",
    "\n",
    "train_df = pd.read_csv(TRAIN_DATA_PATH)\n",
    "test_df = pd.read_csv(TEST_DATA_PATH)"
   ]
  },
  {
   "cell_type": "markdown",
   "metadata": {},
   "source": [
    "overiew"
   ]
  },
  {
   "cell_type": "code",
   "execution_count": 3,
   "metadata": {},
   "outputs": [
    {
     "data": {
      "text/html": [
       "<div>\n",
       "<style scoped>\n",
       "    .dataframe tbody tr th:only-of-type {\n",
       "        vertical-align: middle;\n",
       "    }\n",
       "\n",
       "    .dataframe tbody tr th {\n",
       "        vertical-align: top;\n",
       "    }\n",
       "\n",
       "    .dataframe thead th {\n",
       "        text-align: right;\n",
       "    }\n",
       "</style>\n",
       "<table border=\"1\" class=\"dataframe\">\n",
       "  <thead>\n",
       "    <tr style=\"text-align: right;\">\n",
       "      <th></th>\n",
       "      <th>text</th>\n",
       "      <th>label_text</th>\n",
       "      <th>style</th>\n",
       "    </tr>\n",
       "  </thead>\n",
       "  <tbody>\n",
       "    <tr>\n",
       "      <th>0</th>\n",
       "      <td>My friend is goth and her email address is dollonesk8@yahoo.com.</td>\n",
       "      <td>formal</td>\n",
       "      <td>formality</td>\n",
       "    </tr>\n",
       "    <tr>\n",
       "      <th>1</th>\n",
       "      <td>If she did not like you like that, why did she say she did? You should ask her.</td>\n",
       "      <td>formal</td>\n",
       "      <td>formality</td>\n",
       "    </tr>\n",
       "    <tr>\n",
       "      <th>2</th>\n",
       "      <td>You can cut out fast food restaurants for awhile.</td>\n",
       "      <td>formal</td>\n",
       "      <td>formality</td>\n",
       "    </tr>\n",
       "    <tr>\n",
       "      <th>3</th>\n",
       "      <td>I am interesting in what would be best, shaving or waxing.</td>\n",
       "      <td>formal</td>\n",
       "      <td>formality</td>\n",
       "    </tr>\n",
       "    <tr>\n",
       "      <th>4</th>\n",
       "      <td>In general, we do not discriminate.</td>\n",
       "      <td>formal</td>\n",
       "      <td>formality</td>\n",
       "    </tr>\n",
       "    <tr>\n",
       "      <th>5</th>\n",
       "      <td>If your partner is responsible and mature, as you stated, give it a chance.</td>\n",
       "      <td>formal</td>\n",
       "      <td>formality</td>\n",
       "    </tr>\n",
       "    <tr>\n",
       "      <th>6</th>\n",
       "      <td>That is what I think.</td>\n",
       "      <td>formal</td>\n",
       "      <td>formality</td>\n",
       "    </tr>\n",
       "    <tr>\n",
       "      <th>7</th>\n",
       "      <td>Yahoo Personals is very interesting as well.</td>\n",
       "      <td>formal</td>\n",
       "      <td>formality</td>\n",
       "    </tr>\n",
       "    <tr>\n",
       "      <th>8</th>\n",
       "      <td>Is the gentleman from Verdale fond of you, as well?</td>\n",
       "      <td>formal</td>\n",
       "      <td>formality</td>\n",
       "    </tr>\n",
       "    <tr>\n",
       "      <th>9</th>\n",
       "      <td>I have the charm of always admitting when i am wrong. So, good luck.</td>\n",
       "      <td>formal</td>\n",
       "      <td>formality</td>\n",
       "    </tr>\n",
       "  </tbody>\n",
       "</table>\n",
       "</div>"
      ],
      "text/plain": [
       "                                                                              text  \\\n",
       "0                 My friend is goth and her email address is dollonesk8@yahoo.com.   \n",
       "1  If she did not like you like that, why did she say she did? You should ask her.   \n",
       "2                                You can cut out fast food restaurants for awhile.   \n",
       "3                       I am interesting in what would be best, shaving or waxing.   \n",
       "4                                              In general, we do not discriminate.   \n",
       "5      If your partner is responsible and mature, as you stated, give it a chance.   \n",
       "6                                                            That is what I think.   \n",
       "7                                     Yahoo Personals is very interesting as well.   \n",
       "8                              Is the gentleman from Verdale fond of you, as well?   \n",
       "9             I have the charm of always admitting when i am wrong. So, good luck.   \n",
       "\n",
       "  label_text      style  \n",
       "0     formal  formality  \n",
       "1     formal  formality  \n",
       "2     formal  formality  \n",
       "3     formal  formality  \n",
       "4     formal  formality  \n",
       "5     formal  formality  \n",
       "6     formal  formality  \n",
       "7     formal  formality  \n",
       "8     formal  formality  \n",
       "9     formal  formality  "
      ]
     },
     "execution_count": 3,
     "metadata": {},
     "output_type": "execute_result"
    }
   ],
   "source": [
    "train_df.head(10)"
   ]
  },
  {
   "cell_type": "code",
   "execution_count": 4,
   "metadata": {},
   "outputs": [
    {
     "data": {
      "text/html": [
       "<div>\n",
       "<style scoped>\n",
       "    .dataframe tbody tr th:only-of-type {\n",
       "        vertical-align: middle;\n",
       "    }\n",
       "\n",
       "    .dataframe tbody tr th {\n",
       "        vertical-align: top;\n",
       "    }\n",
       "\n",
       "    .dataframe thead th {\n",
       "        text-align: right;\n",
       "    }\n",
       "</style>\n",
       "<table border=\"1\" class=\"dataframe\">\n",
       "  <thead>\n",
       "    <tr style=\"text-align: right;\">\n",
       "      <th></th>\n",
       "      <th>text</th>\n",
       "      <th>label_text</th>\n",
       "      <th>style</th>\n",
       "    </tr>\n",
       "  </thead>\n",
       "  <tbody>\n",
       "    <tr>\n",
       "      <th>0</th>\n",
       "      <td>Effective but too-tepid biopic</td>\n",
       "      <td>neutral</td>\n",
       "      <td>sentiment</td>\n",
       "    </tr>\n",
       "    <tr>\n",
       "      <th>1</th>\n",
       "      <td>If you sometimes like to go to the movies to have fun, Wasabi is a good place to start.</td>\n",
       "      <td>positive</td>\n",
       "      <td>sentiment</td>\n",
       "    </tr>\n",
       "    <tr>\n",
       "      <th>2</th>\n",
       "      <td>Emerges as something rare, an issue movie that's so honest and keenly observed that it doesn't feel like one.</td>\n",
       "      <td>very positive</td>\n",
       "      <td>sentiment</td>\n",
       "    </tr>\n",
       "    <tr>\n",
       "      <th>3</th>\n",
       "      <td>The film provides some great insight into the neurotic mindset of all comics--even those who have reached the absolute top of the game.</td>\n",
       "      <td>neutral</td>\n",
       "      <td>sentiment</td>\n",
       "    </tr>\n",
       "    <tr>\n",
       "      <th>4</th>\n",
       "      <td>Offers that rare combination of entertainment and education.</td>\n",
       "      <td>very positive</td>\n",
       "      <td>sentiment</td>\n",
       "    </tr>\n",
       "    <tr>\n",
       "      <th>5</th>\n",
       "      <td>Perhaps no picture ever made has more literally showed that the road to hell is paved with good intentions.</td>\n",
       "      <td>positive</td>\n",
       "      <td>sentiment</td>\n",
       "    </tr>\n",
       "    <tr>\n",
       "      <th>6</th>\n",
       "      <td>Steers turns in a snappy screenplay that curls at the edges; it's so clever you want to hate it.</td>\n",
       "      <td>positive</td>\n",
       "      <td>sentiment</td>\n",
       "    </tr>\n",
       "    <tr>\n",
       "      <th>7</th>\n",
       "      <td>But he somehow pulls it off.</td>\n",
       "      <td>positive</td>\n",
       "      <td>sentiment</td>\n",
       "    </tr>\n",
       "    <tr>\n",
       "      <th>8</th>\n",
       "      <td>Take Care of My Cat offers a refreshingly different slice of Asian cinema.</td>\n",
       "      <td>positive</td>\n",
       "      <td>sentiment</td>\n",
       "    </tr>\n",
       "    <tr>\n",
       "      <th>9</th>\n",
       "      <td>This is a film well worth seeing, talking and singing heads and all.</td>\n",
       "      <td>very positive</td>\n",
       "      <td>sentiment</td>\n",
       "    </tr>\n",
       "  </tbody>\n",
       "</table>\n",
       "</div>"
      ],
      "text/plain": [
       "                                                                                                                                      text  \\\n",
       "0                                                                                                           Effective but too-tepid biopic   \n",
       "1                                                  If you sometimes like to go to the movies to have fun, Wasabi is a good place to start.   \n",
       "2                            Emerges as something rare, an issue movie that's so honest and keenly observed that it doesn't feel like one.   \n",
       "3  The film provides some great insight into the neurotic mindset of all comics--even those who have reached the absolute top of the game.   \n",
       "4                                                                             Offers that rare combination of entertainment and education.   \n",
       "5                              Perhaps no picture ever made has more literally showed that the road to hell is paved with good intentions.   \n",
       "6                                         Steers turns in a snappy screenplay that curls at the edges; it's so clever you want to hate it.   \n",
       "7                                                                                                             But he somehow pulls it off.   \n",
       "8                                                               Take Care of My Cat offers a refreshingly different slice of Asian cinema.   \n",
       "9                                                                     This is a film well worth seeing, talking and singing heads and all.   \n",
       "\n",
       "      label_text      style  \n",
       "0        neutral  sentiment  \n",
       "1       positive  sentiment  \n",
       "2  very positive  sentiment  \n",
       "3        neutral  sentiment  \n",
       "4  very positive  sentiment  \n",
       "5       positive  sentiment  \n",
       "6       positive  sentiment  \n",
       "7       positive  sentiment  \n",
       "8       positive  sentiment  \n",
       "9  very positive  sentiment  "
      ]
     },
     "execution_count": 4,
     "metadata": {},
     "output_type": "execute_result"
    }
   ],
   "source": [
    "test_df.head(10)"
   ]
  },
  {
   "cell_type": "markdown",
   "metadata": {},
   "source": [
    "Any duplicates?"
   ]
  },
  {
   "cell_type": "code",
   "execution_count": 9,
   "metadata": {},
   "outputs": [
    {
     "name": "stdout",
     "output_type": "stream",
     "text": [
      "number of samples:537972\n",
      "number of unique reviews: 373706\n",
      "percentage of duplicates: 30.534302900522704%\n"
     ]
    }
   ],
   "source": [
    "print(f'number of samples:{len(train_df.text)}')\n",
    "print(f'number of unique reviews: {train_df.text.nunique()}')\n",
    "print(f'percentage of duplicates: {(len(train_df.text) - train_df.text.nunique()) / len(train_df.text)*100}%')"
   ]
  },
  {
   "cell_type": "markdown",
   "metadata": {},
   "source": [
    "Any missing values?"
   ]
  },
  {
   "cell_type": "code",
   "execution_count": 10,
   "metadata": {},
   "outputs": [
    {
     "data": {
      "text/plain": [
       "text          9\n",
       "label_text    0\n",
       "style         0\n",
       "dtype: int64"
      ]
     },
     "execution_count": 10,
     "metadata": {},
     "output_type": "execute_result"
    }
   ],
   "source": [
    "train_df.isna().sum()"
   ]
  },
  {
   "cell_type": "markdown",
   "metadata": {},
   "source": [
    "Is target balanced?"
   ]
  },
  {
   "cell_type": "code",
   "execution_count": 11,
   "metadata": {},
   "outputs": [
    {
     "data": {
      "text/plain": [
       "label_text\n",
       "neutral          0.408549\n",
       "informal         0.204894\n",
       "formal           0.202916\n",
       "positive         0.082149\n",
       "negative         0.063873\n",
       "very positive    0.022293\n",
       "very negative    0.015326\n",
       "Name: proportion, dtype: float64"
      ]
     },
     "execution_count": 11,
     "metadata": {},
     "output_type": "execute_result"
    }
   ],
   "source": [
    "train_df.label_text.value_counts(normalize = True)"
   ]
  },
  {
   "cell_type": "markdown",
   "metadata": {},
   "source": [
    "Observations:\n",
    "* There are HTML tags in the second review; and probably in many other reviews. We'll need to perform some cleaning for the whole dataset.\n",
    "* It looks like there are duplicated reviews. We'll remove these to avoid overly optimistic estimation of model performance (which will happen if same reviews appear in both training and test sets).\n",
    "* The target is in string format (negative, positive) and will need to be converted into integers (0, 1).\n",
    "* No need to worry about data imbalance"
   ]
  }
 ],
 "metadata": {
  "kernelspec": {
   "display_name": "Python 3",
   "language": "python",
   "name": "python3"
  },
  "language_info": {
   "codemirror_mode": {
    "name": "ipython",
    "version": 3
   },
   "file_extension": ".py",
   "mimetype": "text/x-python",
   "name": "python",
   "nbconvert_exporter": "python",
   "pygments_lexer": "ipython3",
   "version": "3.10.9"
  },
  "orig_nbformat": 4
 },
 "nbformat": 4,
 "nbformat_minor": 2
}
